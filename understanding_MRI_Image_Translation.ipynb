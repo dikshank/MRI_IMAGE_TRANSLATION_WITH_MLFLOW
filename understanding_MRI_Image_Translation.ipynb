{
  "nbformat": 4,
  "nbformat_minor": 0,
  "metadata": {
    "colab": {
      "provenance": [],
      "machine_shape": "hm",
      "gpuType": "V100",
      "include_colab_link": true
    },
    "kernelspec": {
      "name": "python3",
      "display_name": "Python 3"
    },
    "language_info": {
      "name": "python"
    },
    "accelerator": "GPU"
  },
  "cells": [
    {
      "cell_type": "markdown",
      "metadata": {
        "id": "view-in-github",
        "colab_type": "text"
      },
      "source": [
        "<a href=\"https://colab.research.google.com/github/dikshank/MRI_IMAGE_TRANSLATION_WITH_MLFLOW/blob/main/understanding_MRI_Image_Translation.ipynb\" target=\"_parent\"><img src=\"https://colab.research.google.com/assets/colab-badge.svg\" alt=\"Open In Colab\"/></a>"
      ]
    },
    {
      "cell_type": "markdown",
      "source": [
        "# In this project, you will acting as a machine learning engineer or researcher at a healthcare company specializing in medical imaging applications. The team in which you are working want to perform the analysis of MRIs (Magnetic Resonance Images) of brain. An MRI system can create multiple types of images at one go but not all types of images are aquired in every single time,in every single scan. In short, MRI system gives us two types of images as output for every patient. One is called T1 weighted images and other one is called T2 weighted images. But in many scenarios, it can happen with people that they may lost one of those images given to them as their test report but the diagnostician requires both types of images to diagnose that what is going on with the patient inside his brain.\n",
        "\n",
        "# In this project, we are assuming that patients might be having T1 weighted images with them in their test report images but they may lost the T2 weighted images. So, your task is to generate synthetic artificial T2 weighted images for them, given their respective T1 weighted images so that their test reports will be having both kind of images and hence it will be easier for the diagnostician to diagnose their disease. You will be using deep learning for this.\n",
        "\n"
      ],
      "metadata": {
        "id": "3Qo92d4-Tfko"
      }
    },
    {
      "cell_type": "code",
      "execution_count": 1,
      "metadata": {
        "colab": {
          "base_uri": "https://localhost:8080/"
        },
        "id": "MjiwmUf1vZWM",
        "outputId": "282d20b2-a2a4-4cbd-fddf-9aff6f0b75d9"
      },
      "outputs": [
        {
          "output_type": "stream",
          "name": "stdout",
          "text": [
            "Requirement already satisfied: nibabel in /usr/local/lib/python3.10/dist-packages (4.0.2)\n",
            "Requirement already satisfied: numpy>=1.17 in /usr/local/lib/python3.10/dist-packages (from nibabel) (1.25.2)\n",
            "Requirement already satisfied: packaging>=17.0 in /usr/local/lib/python3.10/dist-packages (from nibabel) (24.0)\n",
            "Requirement already satisfied: setuptools in /usr/local/lib/python3.10/dist-packages (from nibabel) (67.7.2)\n"
          ]
        }
      ],
      "source": [
        "! pip install nibabel"
      ]
    },
    {
      "cell_type": "markdown",
      "source": [
        "# Make sure that nibabel library is installed. This library is used to read different types of images in medical domain in python. To know more about Nibabel library, goto the following link:\n",
        "\n",
        "# https://nipy.org/nibabel/"
      ],
      "metadata": {
        "id": "XnQnNKHUY8At"
      }
    },
    {
      "cell_type": "code",
      "source": [
        "from google.colab import drive\n",
        "drive.mount('/content/drive')"
      ],
      "metadata": {
        "colab": {
          "base_uri": "https://localhost:8080/"
        },
        "id": "ph_z-MrFWb1F",
        "outputId": "02122b16-fdc8-4dde-9479-4c250dc9b29b"
      },
      "execution_count": 2,
      "outputs": [
        {
          "output_type": "stream",
          "name": "stdout",
          "text": [
            "Mounted at /content/drive\n"
          ]
        }
      ]
    },
    {
      "cell_type": "code",
      "source": [
        "# cd /content"
      ],
      "metadata": {
        "id": "E-yX2IUL8gik"
      },
      "execution_count": 3,
      "outputs": []
    },
    {
      "cell_type": "markdown",
      "source": [
        "# Make sure that you have already navigated to google drive because you will be unzipping lot of biomemdical images."
      ],
      "metadata": {
        "id": "-Cs2Sh_zZgp7"
      }
    },
    {
      "cell_type": "code",
      "source": [
        "# ! unzip /content/drive/MyDrive/T1_and_T2_weighted_training_images.zip"
      ],
      "metadata": {
        "id": "HeTsgvcCvohP"
      },
      "execution_count": 4,
      "outputs": []
    },
    {
      "cell_type": "markdown",
      "source": [
        "# A medical image is read using nibabel library as shown below"
      ],
      "metadata": {
        "id": "BmApbFerZxcZ"
      }
    },
    {
      "cell_type": "code",
      "source": [
        "import nibabel as nib\n",
        "patient_t1_image =  nib.load(\"/content/drive/MyDrive/U_Net_For_MRI_IMAGES/T1_and_T2_weighted_training_images/t1/IXI131-HH-1527-T1_fcm.nii.gz\")\n",
        "patient_t1_image_data = patient_t1_image.get_fdata()"
      ],
      "metadata": {
        "id": "TOanJ9ir8Ahc"
      },
      "execution_count": 5,
      "outputs": []
    },
    {
      "cell_type": "code",
      "source": [
        "patient_t1_image_data.shape"
      ],
      "metadata": {
        "colab": {
          "base_uri": "https://localhost:8080/"
        },
        "id": "QSDaqD-k8717",
        "outputId": "c3363989-5637-4b87-a6f0-fbb57b2e3441"
      },
      "execution_count": 6,
      "outputs": [
        {
          "output_type": "execute_result",
          "data": {
            "text/plain": [
              "(120, 120, 90)"
            ]
          },
          "metadata": {},
          "execution_count": 6
        }
      ]
    },
    {
      "cell_type": "markdown",
      "source": [
        "# As it can be noticed that MR Images are far different than the usual colored or grayscale images. Colored images have three channels and grayscale images have only one channel whereas it can be clearly seen that the MR images here have 90 channels !!! Thats crazy. Therefore, one thing is for sure that definitely these images will comsume lot of memory and computation time when passed though a Convolutional Neural Network because their size (Height and Width) is also big as well as their number of channels are also a lot."
      ],
      "metadata": {
        "id": "x0MRTwsUZ4iz"
      }
    },
    {
      "cell_type": "code",
      "source": [
        "patient_t2_image = nib.load(\"/content/drive/MyDrive/U_Net_For_MRI_IMAGES/T1_and_T2_weighted_training_images/t2/IXI131-HH-1527-T2_reg_fcm.nii.gz\")\n",
        "patient_t2_image_data = patient_t2_image.get_fdata()"
      ],
      "metadata": {
        "id": "Polmro9u9AJc"
      },
      "execution_count": 7,
      "outputs": []
    },
    {
      "cell_type": "markdown",
      "source": [
        "# Previously, T1 eighted image of one of the patients is read using nibabel library and here wera are reading T2 weighted image of the same patient using nibabel library.  "
      ],
      "metadata": {
        "id": "rFLtvDUua-Qk"
      }
    },
    {
      "cell_type": "markdown",
      "source": [
        "# Now, let's try to see that what is inside these two types of images for a single patient. But, all our eyes can see are colored images and we know that colored images have maximum 3 channels (R,G,B) or our eyes can see a grayscale (Black and White) image so it means that our eyes can see images which have maximum 3 channels but the medicalimages we have of brain have 90 channels !!! So, how do we visualize them ??  Well, what we are goiong to do is that we are going to randomly select 3 consecutive channels out of 90 channels and going to plot and see that what we can observe."
      ],
      "metadata": {
        "id": "Ar1zDzDybYb4"
      }
    },
    {
      "cell_type": "code",
      "source": [
        "import matplotlib.pyplot as plt"
      ],
      "metadata": {
        "id": "n1ioexIx_Auy"
      },
      "execution_count": 8,
      "outputs": []
    },
    {
      "cell_type": "code",
      "source": [
        "plt.figure(figsize=(6,6))\n",
        "plt.imshow(patient_t1_image_data[:,:,44:47])"
      ],
      "metadata": {
        "colab": {
          "base_uri": "https://localhost:8080/",
          "height": 561
        },
        "id": "HI4Xt2S4_D_0",
        "outputId": "8c00f515-f154-4ecc-fe97-515a87c302dc"
      },
      "execution_count": 9,
      "outputs": [
        {
          "output_type": "stream",
          "name": "stderr",
          "text": [
            "WARNING:matplotlib.image:Clipping input data to the valid range for imshow with RGB data ([0..1] for floats or [0..255] for integers).\n"
          ]
        },
        {
          "output_type": "execute_result",
          "data": {
            "text/plain": [
              "<matplotlib.image.AxesImage at 0x7903f42684f0>"
            ]
          },
          "metadata": {},
          "execution_count": 9
        },
        {
          "output_type": "display_data",
          "data": {
            "text/plain": [
              "<Figure size 600x600 with 1 Axes>"
            ],
            "image/png": "[encoded data removed]"
          },
          "metadata": {}
        }
      ]
    },
    {
      "cell_type": "markdown",
      "source": [
        "# Above is the plot of randomly selected 3 channels of T1 weighted images and below is the plot of same 3 consecutive selected channels of T2 weighted image as T1 weighted image."
      ],
      "metadata": {
        "id": "n3enFuxfccLq"
      }
    },
    {
      "cell_type": "code",
      "source": [
        "plt.figure(figsize=(6,6))\n",
        "plt.imshow(patient_t2_image_data[:,:,44:47])"
      ],
      "metadata": {
        "colab": {
          "base_uri": "https://localhost:8080/",
          "height": 561
        },
        "id": "rUXNw2gR_XgO",
        "outputId": "21e6261a-2845-4ac2-cf65-1ab040d6a042"
      },
      "execution_count": 10,
      "outputs": [
        {
          "output_type": "stream",
          "name": "stderr",
          "text": [
            "WARNING:matplotlib.image:Clipping input data to the valid range for imshow with RGB data ([0..1] for floats or [0..255] for integers).\n"
          ]
        },
        {
          "output_type": "execute_result",
          "data": {
            "text/plain": [
              "<matplotlib.image.AxesImage at 0x7903f418e3e0>"
            ]
          },
          "metadata": {},
          "execution_count": 10
        },
        {
          "output_type": "display_data",
          "data": {
            "text/plain": [
              "<Figure size 600x600 with 1 Axes>"
            ],
            "image/png": "[encoded data removed]"
          },
          "metadata": {}
        }
      ]
    },
    {
      "cell_type": "markdown",
      "source": [
        "# Now, the first thing which we have to do is to segregate our data into 3 parts : Training, Cross Validation and Testing. We already have all the images in a training folder, this means that we have to create two more folders for Cross Validation and Testing data and move some fixed fraction (Train: 70 %, Cross Validation: 20 % and Testing: 10 %) of both T1 and T2 weighted images to the respective folders.  "
      ],
      "metadata": {
        "id": "q0iOIs6Xc8Jr"
      }
    },
    {
      "cell_type": "code",
      "source": [
        "import os"
      ],
      "metadata": {
        "id": "aGVb6WGU9vFp"
      },
      "execution_count": 11,
      "outputs": []
    },
    {
      "cell_type": "code",
      "source": [
        "# os.mkdir(path=\"T1_and_T2_wieghted_cv_images\")\n",
        "# os.mkdir(path=\"T1_and_T2_wieghted_test_images\")"
      ],
      "metadata": {
        "id": "nQ_7ftYI-Cnb"
      },
      "execution_count": 12,
      "outputs": []
    },
    {
      "cell_type": "code",
      "source": [
        "import shutil"
      ],
      "metadata": {
        "id": "7b7NU2Vj-pE3"
      },
      "execution_count": 13,
      "outputs": []
    },
    {
      "cell_type": "code",
      "source": [
        "# def move_files(dst,src,t1_files_to_move,t2_files_to_move):\n",
        "\n",
        "#   os.mkdir(os.path.join(dst,\"t1\"))\n",
        "#   os.mkdir(os.path.join(dst,\"t2\"))\n",
        "\n",
        "#   t1_dst_path = os.path.join(dst,\"t1\")\n",
        "#   t2_dst_path = os.path.join(dst,\"t2\")\n",
        "\n",
        "#   t1_src_path = os.path.join(src,\"t1\")\n",
        "#   t2_src_path = os.path.join(src,\"t2\")\n",
        "\n",
        "#   for t1_filename,t2_filename in zip(t1_files_to_move,t2_files_to_move):\n",
        "\n",
        "#     shutil.move(src=os.path.join(t1_src_path,t1_filename),dst=t1_dst_path)\n",
        "#     shutil.move(src=os.path.join(t2_src_path,t2_filename),dst=t2_dst_path)"
      ],
      "metadata": {
        "id": "euP_dry6-2Wm"
      },
      "execution_count": 14,
      "outputs": []
    },
    {
      "cell_type": "code",
      "source": [
        "# t1_files_to_move = os.listdir(\"/content/drive/MyDrive/T1_and_T2_weighted_training_images/t1\")\n",
        "# t2_files_to_move = os.listdir(\"/content/drive/MyDrive/T1_and_T2_weighted_training_images/t2\")"
      ],
      "metadata": {
        "id": "9Ulll2K3LzQv"
      },
      "execution_count": 15,
      "outputs": []
    },
    {
      "cell_type": "code",
      "source": [
        "# t1_cv_files_to_move = t1_files_to_move[int(0.7*len(t1_files_to_move)):int(0.9*len(t1_files_to_move))]\n",
        "# t2_cv_files_to_move = t2_files_to_move[int(0.7*len(t2_files_to_move)):int(0.9*len(t2_files_to_move))]"
      ],
      "metadata": {
        "id": "p-8nYsEhNgSn"
      },
      "execution_count": 16,
      "outputs": []
    },
    {
      "cell_type": "code",
      "source": [
        "# t1_test_files_to_move = t1_files_to_move[int(0.9*len(t1_files_to_move)):len(t1_files_to_move)]\n",
        "# t2_test_files_to_move = t2_files_to_move[int(0.9*len(t2_files_to_move)):len(t2_files_to_move)]"
      ],
      "metadata": {
        "id": "7DBPNot_OMuJ"
      },
      "execution_count": 17,
      "outputs": []
    },
    {
      "cell_type": "code",
      "source": [
        "# move_files(dst=\"/content/drive/MyDrive/T1_and_T2_wieghted_cv_images\",\n",
        "#            src=\"/content/drive/MyDrive/T1_and_T2_weighted_training_images\",t1_files_to_move=t1_cv_files_to_move,\n",
        "#            t2_files_to_move=t2_cv_files_to_move)"
      ],
      "metadata": {
        "id": "65tIDjoSO2YP"
      },
      "execution_count": 18,
      "outputs": []
    },
    {
      "cell_type": "code",
      "source": [
        "# move_files(dst=\"/content/drive/MyDrive/T1_and_T2_wieghted_test_images\",\n",
        "#            src=\"/content/drive/MyDrive/T1_and_T2_weighted_training_images\",t1_files_to_move=t1_test_files_to_move,\n",
        "#            t2_files_to_move=t2_test_files_to_move)"
      ],
      "metadata": {
        "id": "uROrddNLPt_U"
      },
      "execution_count": 19,
      "outputs": []
    },
    {
      "cell_type": "code",
      "source": [
        "from PIL import Image\n",
        "import numpy as np"
      ],
      "metadata": {
        "id": "lRGvD9oFedy8"
      },
      "execution_count": 20,
      "outputs": []
    },
    {
      "cell_type": "markdown",
      "source": [
        "# Now that we have segregated our T1 and T2 weighted images into three respective categories, we have to now write the function for our custom data generator. Some important points to keep in mind while creauting our custom image data generator.\n",
        "\n",
        "# First of all, the training data is very less and in such kind of situation, if we are going to train a network to translate T1 to T2 weighted images then it will overfit because the number of parameters in a neural network will be lot more in comparison to the number of training images as well as their pixels. So, network will be more complex and hence for sure overfitting will happen.\n",
        "\n",
        "# So, we need to increase our training data. Now, we have to two ways to increase our training data, the first is to perform data rugmentation by rotating, horizontally shifting, vertically shifting both T1 and T2 weighted images.\n",
        "\n",
        "# The second thing which we should definitely do is to take random crops from our single image (both T1 and T2) of shape (120,120,90). But we need to fix on the size of the random crop which we are going to take from each image. And we will be feeding that into our CNN. But the question arrises is that why we need to perform random cropping of fixed size and insert it into a CNN, why not insert the whole image because we have to translate the whole image and not the part of it, right ? Well, it doesn't matters because uptimately the network is going to learn the parametrs in the same way as it will learn for the whole image but random cropping is going to be advantageous in two ways. First iof all our training data will increase because for each image in each epoch we can take a different random crop with a different set of consecutive channels as well as different set of pixels located in different locations and at the same time our cropped image will be smaller in size in comparison to the whole image and hence less memory will be consumed as well as less comutation time will be reuiqred and durig the inference time, we can always merge the copped portions to get the whole T2 translated image.\n",
        "\n",
        "# Therefore, you have to write a function for our custom data generator such that for every spoch, our custom data generator will perform the random crop on both T1 and T2 weighted images on the same spatial locations as well as same consecutive channels and return the batch of them so that we can feed that batch to the network."
      ],
      "metadata": {
        "id": "AQeA2SXaegyk"
      }
    },
    {
      "cell_type": "code",
      "source": [
        "import numpy as np\n",
        "import nibabel as nib\n",
        "import os\n",
        "\n",
        "def data_generator(base_path, t1_images, t2_images, crop_size, batch_size=6):\n",
        "\n",
        "    num_images = len(t1_images)\n",
        "    crop_height, crop_width, crop_depth = crop_size\n",
        "\n",
        "    # Create index array for shuffling\n",
        "    indices = np.arange(num_images)\n",
        "\n",
        "    while True:\n",
        "        np.random.shuffle(indices)  # Shuffle the indices for each epoch\n",
        "\n",
        "        for offset in range(0, num_images, batch_size):\n",
        "            batch_indices = indices[offset:offset + batch_size]\n",
        "\n",
        "            t1_cropped_images_batch = []\n",
        "            t2_cropped_images_batch = []\n",
        "\n",
        "            for idx in batch_indices:\n",
        "                t1_img, t2_img = t1_images[idx], t2_images[idx]\n",
        "\n",
        "                try:\n",
        "                    # Load and preprocess images\n",
        "                    t1_image = nib.load(os.path.join(base_path, \"t1\", t1_img)).get_fdata()\n",
        "                    t2_image = nib.load(os.path.join(base_path, \"t2\", t2_img)).get_fdata()\n",
        "\n",
        "                    # Normalize images\n",
        "                    t1_image = (t1_image - np.mean(t1_image)) / np.std(t1_image)\n",
        "                    t2_image = (t2_image - np.mean(t2_image)) / np.std(t2_image)\n",
        "\n",
        "                    # Random cropping\n",
        "                    x = np.random.randint(0, t1_image.shape[0] - crop_height)\n",
        "                    y = np.random.randint(0, t1_image.shape[1] - crop_width)\n",
        "                    z = np.random.randint(0, t1_image.shape[2] - crop_depth)\n",
        "\n",
        "                    t1_cropped_image = t1_image[x:x+crop_height, y:y+crop_width, z:z+crop_depth]\n",
        "                    t2_cropped_image = t2_image[x:x+crop_height, y:y+crop_width, z:z+crop_depth]\n",
        "\n",
        "                    # Add data augmentation here if needed\n",
        "\n",
        "                    t1_cropped_images_batch.append(t1_cropped_image[..., np.newaxis])\n",
        "                    t2_cropped_images_batch.append(t2_cropped_image[..., np.newaxis])\n",
        "\n",
        "                except Exception as e:\n",
        "                    print(f\"Error processing image {t1_img} or {t2_img}: {str(e)}\")\n",
        "                    continue\n",
        "\n",
        "            if t1_cropped_images_batch and t2_cropped_images_batch:\n",
        "                yield np.array(t1_cropped_images_batch), np.array(t2_cropped_images_batch)\n"
      ],
      "metadata": {
        "id": "moNXjq3FUaWw"
      },
      "execution_count": 21,
      "outputs": []
    },
    {
      "cell_type": "code",
      "source": [
        "# import tensorflow as tf\n",
        "# import nibabel as nib\n",
        "# import os\n",
        "# import numpy as np\n",
        "\n",
        "# def data_generator(base_path, t1_images, t2_images, crop_size, batch_size=6):\n",
        "#     t1_images = np.array(t1_images)\n",
        "#     t2_images = np.array(t2_images)\n",
        "#     num_images = len(t1_images)\n",
        "#     crop_height, crop_width, crop_depth = crop_size\n",
        "\n",
        "#     t1_images_path = os.path.join(base_path, \"t1\")\n",
        "#     t2_images_path = os.path.join(base_path, \"t2\")\n",
        "\n",
        "#     def load_and_preprocess(t1_img, t2_img):\n",
        "#         t1_image = nib.load(os.path.join(t1_images_path, t1_img)).get_fdata()\n",
        "#         t2_image = nib.load(os.path.join(t2_images_path, t2_img)).get_fdata()\n",
        "\n",
        "#         # Normalize images to [0, 1] range\n",
        "#         t1_image = (t1_image - t1_image.min()) / (t1_image.max() - t1_image.min())\n",
        "#         t2_image = (t2_image - t2_image.min()) / (t2_image.max() - t2_image.min())\n",
        "\n",
        "#         t1_image_height, t1_image_width, t1_image_depth = t1_image.shape\n",
        "#         t2_image_height, t2_image_width, t2_image_depth = t2_image.shape\n",
        "\n",
        "#         # Adaptive crop size based on intensity values\n",
        "#         t1_mask = np.where(t1_image > np.percentile(t1_image, 10))  # Use 10th percentile as threshold\n",
        "#         t1_mask_coords = np.array(t1_mask).T\n",
        "#         min_coords = np.min(t1_mask_coords, axis=0)\n",
        "#         max_coords = np.max(t1_mask_coords, axis=0)\n",
        "#         crop_height = max_coords[0] - min_coords[0] + 1\n",
        "#         crop_width = max_coords[1] - min_coords[1] + 1\n",
        "#         crop_depth = max_coords[2] - min_coords[2] + 1\n",
        "\n",
        "#         # Random cropping\n",
        "#         start_h = np.random.randint(0, t1_image_height - crop_height + 1)\n",
        "#         start_w = np.random.randint(0, t1_image_width - crop_width + 1)\n",
        "#         start_d = np.random.randint(0, t1_image_depth - crop_depth + 1)\n",
        "\n",
        "#         t1_cropped_image = t1_image[start_h:start_h + crop_height,\n",
        "#                             start_w:start_w + crop_width,\n",
        "#                             start_d:start_d + crop_depth]\n",
        "\n",
        "#         t2_cropped_image = t2_image[start_h:start_h + crop_height,\n",
        "#                             start_w:start_w + crop_width,\n",
        "#                             start_d:start_d + crop_depth]\n",
        "\n",
        "#         # Data augmentation\n",
        "#         if np.random.uniform() < 0.5:\n",
        "#             t1_cropped_image = np.flip(t1_cropped_image, axis=np.random.randint(0, 3))\n",
        "#             t2_cropped_image = np.flip(t2_cropped_image, axis=np.random.randint(0, 3))\n",
        "\n",
        "#         return t1_cropped_image[..., np.newaxis], t2_cropped_image[..., np.newaxis]\n",
        "\n",
        "#     dataset = tf.data.Dataset.from_tensor_slices((t1_images, t2_images))\n",
        "#     dataset = dataset.shuffle(buffer_size=num_images, reshuffle_each_iteration=True)\n",
        "#     dataset = dataset.map(load_and_preprocess, num_parallel_calls=tf.data.AUTOTUNE)\n",
        "#     dataset = dataset.batch(batch_size)\n",
        "#     dataset = dataset.prefetch(tf.data.AUTOTUNE)\n",
        "\n",
        "#     return dataset"
      ],
      "metadata": {
        "id": "skEIdlMBTMQ_"
      },
      "execution_count": 22,
      "outputs": []
    },
    {
      "cell_type": "code",
      "source": [
        "from keras.layers import Conv3D, Conv3DTranspose, BatchNormalization, MaxPooling3D\n",
        "from keras.models import Sequential\n",
        "from keras.layers import Input, UpSampling3D, UpSampling2D\n",
        "from keras.layers import ReLU, Concatenate\n",
        "from keras.layers import Reshape\n",
        "import tensorflow as tf\n",
        "import keras\n",
        "from keras.models import Model"
      ],
      "metadata": {
        "id": "ES-yGPTAJkTb"
      },
      "execution_count": 23,
      "outputs": []
    },
    {
      "cell_type": "markdown",
      "source": [
        "# Please download the research paper of U-net from the following link and follow the complete architecture and implement it inside the the below mentioned function:\n",
        "\n",
        "# https://arxiv.org/abs/1505.04597"
      ],
      "metadata": {
        "id": "iPTg4gT_i0HG"
      }
    },
    {
      "cell_type": "code",
      "source": [
        "import tensorflow as tf\n",
        "from tensorflow.keras.layers import Input, Conv3D, MaxPooling3D, UpSampling3D, Concatenate, Dropout, LeakyReLU, BatchNormalization\n",
        "from tensorflow.keras.models import Model\n",
        "from tensorflow.keras.regularizers import l2\n",
        "\n",
        "def unet_generator(input_shape, output_channels=1, dropout_rate=0.2, l2_reg=1e-4):\n",
        "    inputs = Input(shape=input_shape)\n",
        "\n",
        "    # Encoder\n",
        "    conv1 = Conv3D(64, 3, activation=None, padding='same', kernel_regularizer=l2(l2_reg))(inputs)\n",
        "    conv1 = BatchNormalization()(conv1)\n",
        "    conv1 = LeakyReLU()(conv1)\n",
        "    conv1 = Conv3D(64, 3, activation=None, padding='same', kernel_regularizer=l2(l2_reg))(conv1)\n",
        "    conv1 = BatchNormalization()(conv1)\n",
        "    conv1 = LeakyReLU()(conv1)\n",
        "    pool1 = MaxPooling3D(pool_size=(2, 2, 2))(conv1)\n",
        "    drop1 = Dropout(dropout_rate)(pool1)\n",
        "\n",
        "    conv2 = Conv3D(128, 3, activation=None, padding='same', kernel_regularizer=l2(l2_reg))(drop1)\n",
        "    conv2 = BatchNormalization()(conv2)\n",
        "    conv2 = LeakyReLU()(conv2)\n",
        "    conv2 = Conv3D(128, 3, activation=None, padding='same', kernel_regularizer=l2(l2_reg))(conv2)\n",
        "    conv2 = BatchNormalization()(conv2)\n",
        "    conv2 = LeakyReLU()(conv2)\n",
        "    pool2 = MaxPooling3D(pool_size=(2, 2, 2))(conv2)\n",
        "    drop2 = Dropout(dropout_rate)(pool2)\n",
        "\n",
        "    conv3 = Conv3D(256, 3, activation=None, padding='same', kernel_regularizer=l2(l2_reg))(drop2)\n",
        "    conv3 = BatchNormalization()(conv3)\n",
        "    conv3 = LeakyReLU()(conv3)\n",
        "    conv3 = Conv3D(256, 3, activation=None, padding='same', kernel_regularizer=l2(l2_reg))(conv3)\n",
        "    conv3 = BatchNormalization()(conv3)\n",
        "    conv3 = LeakyReLU()(conv3)\n",
        "    pool3 = MaxPooling3D(pool_size=(2, 2, 2))(conv3)\n",
        "    drop3 = Dropout(dropout_rate)(pool3)\n",
        "\n",
        "    conv4 = Conv3D(512, 3, activation=None, padding='same', kernel_regularizer=l2(l2_reg))(drop3)\n",
        "    conv4 = BatchNormalization()(conv4)\n",
        "    conv4 = LeakyReLU()(conv4)\n",
        "    conv4 = Conv3D(512, 3, activation=None, padding='same', kernel_regularizer=l2(l2_reg))(conv4)\n",
        "    conv4 = BatchNormalization()(conv4)\n",
        "    conv4 = LeakyReLU()(conv4)\n",
        "    drop4 = Dropout(dropout_rate)(conv4)\n",
        "\n",
        "    # Decoder\n",
        "    up5 = UpSampling3D(size=(2, 2, 2))(drop4)\n",
        "    up5 = Concatenate(axis=4)([up5, conv3])\n",
        "    conv5 = Conv3D(256, 3, activation=None, padding='same', kernel_regularizer=l2(l2_reg))(up5)\n",
        "    conv5 = BatchNormalization()(conv5)\n",
        "    conv5 = LeakyReLU()(conv5)\n",
        "    conv5 = Conv3D(256, 3, activation=None, padding='same', kernel_regularizer=l2(l2_reg))(conv5)\n",
        "    conv5 = BatchNormalization()(conv5)\n",
        "    conv5 = LeakyReLU()(conv5)\n",
        "    drop5 = Dropout(dropout_rate)(conv5)\n",
        "\n",
        "    up6 = UpSampling3D(size=(2, 2, 2))(drop5)\n",
        "    up6 = Concatenate(axis=4)([up6, conv2])\n",
        "    conv6 = Conv3D(128, 3, activation=None, padding='same', kernel_regularizer=l2(l2_reg))(up6)\n",
        "    conv6 = BatchNormalization()(conv6)\n",
        "    conv6 = LeakyReLU()(conv6)\n",
        "    conv6 = Conv3D(128, 3, activation=None, padding='same', kernel_regularizer=l2(l2_reg))(conv6)\n",
        "    conv6 = BatchNormalization()(conv6)\n",
        "    conv6 = LeakyReLU()(conv6)\n",
        "    drop6 = Dropout(dropout_rate)(conv6)\n",
        "\n",
        "    up7 = UpSampling3D(size=(2, 2, 2))(drop6)\n",
        "    up7 = Concatenate(axis=4)([up7, conv1])\n",
        "    conv7 = Conv3D(64, 3, activation=None, padding='same', kernel_regularizer=l2(l2_reg))(up7)\n",
        "    conv7 = BatchNormalization()(conv7)\n",
        "    conv7 = LeakyReLU()(conv7)\n",
        "    conv7 = Conv3D(64, 3, activation=None, padding='same', kernel_regularizer=l2(l2_reg))(conv7)\n",
        "    conv7 = BatchNormalization()(conv7)\n",
        "    conv7 = LeakyReLU()(conv7)\n",
        "    drop7 = Dropout(dropout_rate)(conv7)\n",
        "\n",
        "    # Output\n",
        "    outputs = Conv3D(output_channels, 1, activation='sigmoid')(drop7)\n",
        "\n",
        "    model = Model(inputs=[inputs], outputs=[outputs], name='UNet_Generator')\n",
        "    return model\n"
      ],
      "metadata": {
        "id": "vr7hH8v6gVcI"
      },
      "execution_count": 24,
      "outputs": []
    },
    {
      "cell_type": "code",
      "source": [
        "# import tensorflow as tf\n",
        "# from tensorflow.keras.applications import VGG16\n",
        "# from tensorflow.keras.layers import Input, Conv3D, MaxPooling3D, UpSampling3D, Concatenate, Dropout, LeakyReLU, BatchNormalization\n",
        "# from tensorflow.keras.models import Model\n",
        "# from tensorflow.keras.regularizers import l2\n",
        "\n",
        "# def unet_generator(input_shape, output_channels=1, dropout_rate=0.2, l2_reg=1e-4):\n",
        "#     # VGG16 Encoder\n",
        "#     vgg16_base = VGG16(weights='imagenet', include_top=False, input_shape=input_shape)\n",
        "#     vgg16_encoder = Model(inputs=vgg16_base.input, outputs=vgg16_base.get_layer('block4_pool').output)\n",
        "\n",
        "#     vgg16_encoder.trainable = False\n",
        "\n",
        "#     encoder_output = vgg16_encoder.output\n",
        "\n",
        "#     # Decoder\n",
        "#     up6 = UpSampling3D(size=(2, 2, 2))(encoder_output)\n",
        "#     up6 = Concatenate(axis=4)([up6, encoder_output])\n",
        "#     conv6 = Conv3D(512, 3, activation=None, padding='same', kernel_regularizer=l2(l2_reg))(up6)\n",
        "#     conv6 = BatchNormalization()(conv6)\n",
        "#     conv6 = LeakyReLU()(conv6)\n",
        "#     conv6 = Conv3D(512, 3, activation=None, padding='same', kernel_regularizer=l2(l2_reg))(conv6)\n",
        "#     conv6 = BatchNormalization()(conv6)\n",
        "#     conv6 = LeakyReLU()(conv6)\n",
        "#     drop6 = Dropout(dropout_rate)(conv6)\n",
        "\n",
        "#     up7 = UpSampling3D(size=(2, 2, 2))(drop6)\n",
        "#     up7 = Concatenate(axis=4)([up7, encoder_output])\n",
        "#     conv7 = Conv3D(256, 3, activation=None, padding='same', kernel_regularizer=l2(l2_reg))(up7)\n",
        "#     conv7 = BatchNormalization()(conv7)\n",
        "#     conv7 = LeakyReLU()(conv7)\n",
        "#     conv7 = Conv3D(256, 3, activation=None, padding='same', kernel_regularizer=l2(l2_reg))(conv7)\n",
        "#     conv7 = BatchNormalization()(conv7)\n",
        "#     conv7 = LeakyReLU()(conv7)\n",
        "#     drop7 = Dropout(dropout_rate)(conv7)\n",
        "\n",
        "#     up8 = UpSampling3D(size=(2, 2, 2))(drop7)\n",
        "#     up8 = Concatenate(axis=4)([up8, encoder_output])\n",
        "#     conv8 = Conv3D(128, 3, activation=None, padding='same', kernel_regularizer=l2(l2_reg))(up8)\n",
        "#     conv8 = BatchNormalization()(conv8)\n",
        "#     conv8 = LeakyReLU()(conv8)\n",
        "#     conv8 = Conv3D(128, 3, activation=None, padding='same', kernel_regularizer=l2(l2_reg))(conv8)\n",
        "#     conv8 = BatchNormalization()(conv8)\n",
        "#     conv8 = LeakyReLU()(conv8)\n",
        "#     drop8 = Dropout(dropout_rate)(conv8)\n",
        "\n",
        "#     up9 = UpSampling3D(size=(2, 2, 2))(drop8)\n",
        "#     up9 = Concatenate(axis=4)([up9, encoder_output])\n",
        "#     conv9 = Conv3D(64, 3, activation=None, padding='same', kernel_regularizer=l2(l2_reg))(up9)\n",
        "#     conv9 = BatchNormalization()(conv9)\n",
        "#     conv9 = LeakyReLU()(conv9)\n",
        "#     conv9 = Conv3D(64, 3, activation=None, padding='same', kernel_regularizer=l2(l2_reg))(conv9)\n",
        "#     conv9 = BatchNormalization()(conv9)\n",
        "#     conv9 = LeakyReLU()(conv9)\n",
        "#     drop9 = Dropout(dropout_rate)(conv9)\n",
        "\n",
        "#     # Output\n",
        "#     outputs = Conv3D(output_channels, 1, activation='sigmoid')(drop9)\n",
        "\n",
        "#     model = Model(inputs=vgg16_encoder.input, outputs=outputs, name='UNet_VGG16_Generator')\n",
        "\n",
        "#     return model\n"
      ],
      "metadata": {
        "id": "ZEKySkkiNS4H"
      },
      "execution_count": 25,
      "outputs": []
    },
    {
      "cell_type": "markdown",
      "source": [
        "# Loss function for the U-net will be smooth L1 loss or you can say that smooth MAE loss."
      ],
      "metadata": {
        "id": "9Cc8t2OljfEN"
      }
    },
    {
      "cell_type": "code",
      "source": [
        "import tensorflow as tf\n",
        "from tensorflow.keras.layers import Input, Conv2D, Conv2DTranspose, LeakyReLU, BatchNormalization\n",
        "from tensorflow.keras.models import Model\n",
        "from tensorflow.keras.losses import MeanSquaredError, BinaryCrossentropy\n",
        "import numpy as np"
      ],
      "metadata": {
        "id": "7ZxODUB2M3YH"
      },
      "execution_count": 26,
      "outputs": []
    },
    {
      "cell_type": "code",
      "source": [
        "!pip install mlflow --quiet"
      ],
      "metadata": {
        "id": "da0o6hyQoKuV"
      },
      "execution_count": null,
      "outputs": []
    },
    {
      "cell_type": "code",
      "source": [
        "def mse_loss(t2_images_true, t2_images_pred):\n",
        "    mse = tf.reduce_mean(tf.keras.losses.mean_squared_error(y_true=t2_images_true, y_pred=t2_images_pred))\n",
        "    return mse"
      ],
      "metadata": {
        "id": "WS9DeK_5LBI9"
      },
      "execution_count": 41,
      "outputs": []
    },
    {
      "cell_type": "markdown",
      "source": [
        "**Peak Signal-to-Noise Ratio (PSNR):** PSNR is a commonly used metric for evaluating the quality of reconstructed or generated images. It measures the ratio between the maximum possible pixel value and the amount of distortion or error in the generated image compared to the ground truth. Higher PSNR values indicate better image quality and lower reconstruction error."
      ],
      "metadata": {
        "id": "wgPylWQ-SJfN"
      }
    },
    {
      "cell_type": "code",
      "source": [
        "def psnr(y_true, y_pred):\n",
        "    max_pixel = 1.0  # Assuming pixel values are normalized between 0 and 1\n",
        "    mse = tf.reduce_mean(tf.square(y_true - y_pred))\n",
        "    psnr_val = 20.0 * tf.math.log(max_pixel / tf.sqrt(mse)) / tf.math.log(10.0)\n",
        "    return psnr_val"
      ],
      "metadata": {
        "id": "95l-Tki-LK_D"
      },
      "execution_count": 40,
      "outputs": []
    },
    {
      "cell_type": "markdown",
      "source": [
        "**Structural Similarity Index (SSIM):** SSIM is another widely used metric for evaluating the structural similarity between the generated and ground truth images. It considers luminance, contrast, and structural characteristics, making it particularly suitable for evaluating medical images where preserving structural details is crucial. Higher SSIM values (closer to 1) indicate better structural preservation and image quality."
      ],
      "metadata": {
        "id": "JJqadxHuSUYA"
      }
    },
    {
      "cell_type": "code",
      "source": [
        "def ssim(y_true, y_pred):\n",
        "    y_true = tf.cast(y_true, tf.float64)\n",
        "    y_pred = tf.cast(y_pred, tf.float64)\n",
        "    return tf.reduce_mean(tf.image.ssim(y_true, y_pred, max_val=1.0))"
      ],
      "metadata": {
        "id": "r7-mRZe_LSo9"
      },
      "execution_count": null,
      "outputs": []
    },
    {
      "cell_type": "code",
      "source": [
        "crop_size = (64, 64, 16)\n",
        "regression_unet = unet_generator(input_shape=crop_size + (1,))\n",
        "img_translation_optimizer = tf.keras.optimizers.Adam(learning_rate=0.0001)\n",
        "\n",
        "\n",
        "# Compile your model with custom loss and metrics\n",
        "regression_unet.compile(optimizer=img_translation_optimizer, loss=mse_loss, metrics=[psnr, ssim])"
      ],
      "metadata": {
        "id": "BEcN82_OLm0I"
      },
      "execution_count": null,
      "outputs": []
    },
    {
      "cell_type": "code",
      "source": [
        "# we don't need it beacause we are using mlflow, unless we want to pause and continue the training due to resource limitations\n",
        "img_translation_checkpoint_dir = \"/content/drive/MyDrive/img_translation_checkpoints\"\n",
        "checkpoint_prefix = os.path.join(img_translation_checkpoint_dir, \"ckpt\")\n",
        "checkpoint = tf.train.Checkpoint(optimizer=img_translation_optimizer, model=regression_unet)"
      ],
      "metadata": {
        "id": "L2Aw2QzvL1uY"
      },
      "execution_count": null,
      "outputs": []
    },
    {
      "cell_type": "code",
      "source": [
        "regression_unet.summary()"
      ],
      "metadata": {
        "id": "zdo-wHymLjQx"
      },
      "execution_count": null,
      "outputs": []
    },
    {
      "cell_type": "code",
      "source": [
        "tf.keras.utils.plot_model(model=regression_unet,show_shapes=True)"
      ],
      "metadata": {
        "id": "FJRSwvU9MsCy"
      },
      "execution_count": null,
      "outputs": []
    },
    {
      "cell_type": "code",
      "source": [
        "epochs = 5\n",
        "train_batch_size = 6\n",
        "cv_batch_size = 5\n",
        "checkpoint_frequency = 10  # Adjust as needed\n",
        "train_base_path = \"/content/drive/MyDrive/U_Net_For_MRI_IMAGES/T1_and_T2_weighted_training_images\"\n",
        "cv_base_path = \"/content/drive/MyDrive/U_Net_For_MRI_IMAGES/T1_and_T2_weighted_cv_images\"\n",
        "\n",
        "\n",
        "# Assuming you have defined your data generators train_datagen and cv_datagen    \\\n",
        "t1_train_images = os.listdir(os.path.join(train_base_path, \"t1\"))\n",
        "t2_train_images = os.listdir(os.path.join(train_base_path, \"t2\"))\n",
        "t1_cv_images = os.listdir(os.path.join(cv_base_path, \"t1\"))\n",
        "t2_cv_images = os.listdir(os.path.join(cv_base_path, \"t2\"))"
      ],
      "metadata": {
        "id": "-JoTAedzMXCw"
      },
      "execution_count": null,
      "outputs": []
    },
    {
      "cell_type": "code",
      "source": [
        "import tensorflow as tf\n",
        "import os\n",
        "import mlflow\n",
        "import mlflow\n",
        "\n",
        "\n",
        "cv_datagen = data_generator(base_path=cv_base_path, t1_images=t1_cv_images, t2_images=t2_cv_images,\n",
        "                            crop_size=crop_size, batch_size=cv_batch_size)\n",
        "\n",
        "train_datagen = data_generator(base_path=train_base_path, t1_images=t1_train_images, t2_images=t2_train_images,\n",
        "                                crop_size=crop_size, batch_size=train_batch_size)\n",
        "\n",
        "steps_per_epoch=len(t1_train_images) // train_batch_size\n",
        "validation_steps=len(t1_cv_images) // cv_batch_size"
      ],
      "metadata": {
        "id": "x4UR-gbJMfTr"
      },
      "execution_count": null,
      "outputs": []
    },
    {
      "cell_type": "code",
      "source": [
        "local_registry = \"sqlite:///mlruns.db\"\n",
        "print(f\"Running local model registry={local_registry}\")\n",
        "# Set MLflow tracking URI to your custom URI, instead of this dagshub can also be used\n",
        "mlflow.set_tracking_uri(local_registry)\n",
        "\n",
        "mlflow.set_experiment(\"UNet MRI Translation training 01\")\n",
        "# Start MLflow run\n",
        "with mlflow.start_run():\n",
        "\n",
        "    # Log parameters\n",
        "    mlflow.log_param(\"optimizer\", \"img_translation_optimizer\")\n",
        "    mlflow.log_param(\"loss_function\", \"mse_loss\")\n",
        "    mlflow.log_metric(\"epochs\", epochs)\n",
        "\n",
        "    t1_eval_images, t2_eval_images = next(train_datagen)\n",
        "    signature = mlflow.models.infer_signature(t1_eval_images, t2_eval_images)\n",
        "\n",
        "    # Log model architecture\n",
        "    mlflow.keras.log_model(regression_unet, \"regression_unet_model\", , signature=signature)\n",
        "\n",
        "    # Train the model\n",
        "    history = regression_unet.fit(train_datagen,\n",
        "                                  steps_per_epoch=steps_per_epoch,\n",
        "                                  epochs=epochs,\n",
        "                                  validation_data=cv_datagen,\n",
        "                                  validation_steps=validation_steps)\n",
        "\n",
        "    # Log metrics\n",
        "    mlflow.log_metrics({\"psnr\": history.history['psnr'][-1], \"ssim\": history.history['ssim'][-1]})\n",
        "\n",
        "    # Save the model\n",
        "    regression_unet.save(\"regression_unet.keras\")\n",
        "\n",
        "    # Log the saved model\n",
        "    mlflow.log_artifact(\"regression_unet.keras\", \"models\")\n"
      ],
      "metadata": {
        "colab": {
          "base_uri": "https://localhost:8080/"
        },
        "id": "u_4e9kzL9Lbp",
        "outputId": "e81467e9-184d-4a51-806f-23d9e3eebd3e"
      },
      "execution_count": 28,
      "outputs": [
        {
          "output_type": "stream",
          "name": "stdout",
          "text": [
            "Running local model registry=sqlite:///mlruns.db\n"
          ]
        },
        {
          "output_type": "stream",
          "name": "stderr",
          "text": [
            "2024/03/25 19:38:43 INFO mlflow.store.db.utils: Creating initial MLflow database tables...\n",
            "2024/03/25 19:38:43 INFO mlflow.store.db.utils: Updating database tables\n",
            "INFO  [alembic.runtime.migration] Context impl SQLiteImpl.\n",
            "INFO  [alembic.runtime.migration] Will assume non-transactional DDL.\n",
            "INFO  [alembic.runtime.migration] Running upgrade  -> 451aebb31d03, add metric step\n",
            "INFO  [alembic.runtime.migration] Running upgrade 451aebb31d03 -> 90e64c465722, migrate user column to tags\n",
            "INFO  [alembic.runtime.migration] Running upgrade 90e64c465722 -> 181f10493468, allow nulls for metric values\n",
            "INFO  [alembic.runtime.migration] Running upgrade 181f10493468 -> df50e92ffc5e, Add Experiment Tags Table\n",
            "INFO  [alembic.runtime.migration] Running upgrade df50e92ffc5e -> 7ac759974ad8, Update run tags with larger limit\n",
            "INFO  [alembic.runtime.migration] Running upgrade 7ac759974ad8 -> 89d4b8295536, create latest metrics table\n",
            "INFO  [89d4b8295536_create_latest_metrics_table_py] Migration complete!\n",
            "INFO  [alembic.runtime.migration] Running upgrade 89d4b8295536 -> 2b4d017a5e9b, add model registry tables to db\n",
            "INFO  [2b4d017a5e9b_add_model_registry_tables_to_db_py] Adding registered_models and model_versions tables to database.\n",
            "INFO  [2b4d017a5e9b_add_model_registry_tables_to_db_py] Migration complete!\n",
            "INFO  [alembic.runtime.migration] Running upgrade 2b4d017a5e9b -> cfd24bdc0731, Update run status constraint with killed\n",
            "INFO  [alembic.runtime.migration] Running upgrade cfd24bdc0731 -> 0a8213491aaa, drop_duplicate_killed_constraint\n",
            "INFO  [alembic.runtime.migration] Running upgrade 0a8213491aaa -> 728d730b5ebd, add registered model tags table\n",
            "INFO  [alembic.runtime.migration] Running upgrade 728d730b5ebd -> 27a6a02d2cf1, add model version tags table\n",
            "INFO  [alembic.runtime.migration] Running upgrade 27a6a02d2cf1 -> 84291f40a231, add run_link to model_version\n",
            "INFO  [alembic.runtime.migration] Running upgrade 84291f40a231 -> a8c4a736bde6, allow nulls for run_id\n",
            "INFO  [alembic.runtime.migration] Running upgrade a8c4a736bde6 -> 39d1c3be5f05, add_is_nan_constraint_for_metrics_tables_if_necessary\n",
            "INFO  [alembic.runtime.migration] Running upgrade 39d1c3be5f05 -> c48cb773bb87, reset_default_value_for_is_nan_in_metrics_table_for_mysql\n",
            "INFO  [alembic.runtime.migration] Running upgrade c48cb773bb87 -> bd07f7e963c5, create index on run_uuid\n",
            "INFO  [alembic.runtime.migration] Running upgrade bd07f7e963c5 -> 0c779009ac13, add deleted_time field to runs table\n",
            "INFO  [alembic.runtime.migration] Running upgrade 0c779009ac13 -> cc1f77228345, change param value length to 500\n",
            "INFO  [alembic.runtime.migration] Running upgrade cc1f77228345 -> 97727af70f4d, Add creation_time and last_update_time to experiments table\n",
            "INFO  [alembic.runtime.migration] Running upgrade 97727af70f4d -> 3500859a5d39, Add Model Aliases table\n",
            "INFO  [alembic.runtime.migration] Running upgrade 3500859a5d39 -> 7f2a7d5fae7d, add datasets inputs input_tags tables\n",
            "INFO  [alembic.runtime.migration] Running upgrade 7f2a7d5fae7d -> 2d6e25af4d3e, increase max param val length from 500 to 8000\n",
            "INFO  [alembic.runtime.migration] Running upgrade 2d6e25af4d3e -> acf3f17fdcc7, add storage location field to model versions\n",
            "INFO  [alembic.runtime.migration] Context impl SQLiteImpl.\n",
            "INFO  [alembic.runtime.migration] Will assume non-transactional DDL.\n",
            "2024/03/25 19:38:44 INFO mlflow.tracking.fluent: Experiment with name 'UNet MRI Translation training 01' does not exist. Creating a new experiment.\n",
            "2024/03/25 19:38:44 WARNING mlflow.tensorflow: You are saving a TensorFlow Core model or Keras model without a signature. Inference with mlflow.pyfunc.spark_udf() will not work unless the model's pyfunc representation accepts pandas DataFrames as inference inputs.\n",
            "2024/03/25 19:38:56 WARNING mlflow.utils.environment: Encountered an unexpected error while inferring pip requirements (model URI: /tmp/tmpkfv_zuu2/model, flavor: tensorflow). Fall back to return ['tensorflow==2.15.0', 'cloudpickle==2.2.1']. Set logging level to DEBUG to see the full traceback. \n",
            "/usr/local/lib/python3.10/dist-packages/_distutils_hack/__init__.py:33: UserWarning: Setuptools is replacing distutils.\n",
            "  warnings.warn(\"Setuptools is replacing distutils.\")\n"
          ]
        },
        {
          "output_type": "stream",
          "name": "stdout",
          "text": [
            "Epoch 1/5\n",
            "3/3 [==============================] - 45s 13s/step - loss: 1.7881 - psnr: -1.7819 - ssim: -0.0045 - val_loss: 1.6617 - val_psnr: -1.4422 - val_ssim: -0.1300\n",
            "Epoch 2/5\n",
            "3/3 [==============================] - 4s 878ms/step - loss: 1.5904 - psnr: -1.1654 - ssim: 0.0055 - val_loss: 1.5662 - val_psnr: -1.1337 - val_ssim: -0.1576\n",
            "Epoch 3/5\n",
            "3/3 [==============================] - 2s 853ms/step - loss: 1.2723 - psnr: 0.2976 - ssim: -0.0177 - val_loss: 1.6721 - val_psnr: -1.4743 - val_ssim: -0.0413\n",
            "Epoch 4/5\n",
            "3/3 [==============================] - 2s 939ms/step - loss: 1.6834 - psnr: -1.6147 - ssim: 0.0040 - val_loss: 1.2659 - val_psnr: 0.0086 - val_ssim: -0.0546\n",
            "Epoch 5/5\n",
            "3/3 [==============================] - 2s 910ms/step - loss: 1.4992 - psnr: -0.8919 - ssim: 0.0177 - val_loss: 1.5859 - val_psnr: -1.1995 - val_ssim: -0.0473\n"
          ]
        },
        {
          "output_type": "stream",
          "name": "stderr",
          "text": [
            "/usr/local/lib/python3.10/dist-packages/keras/src/engine/training.py:3103: UserWarning: You are saving your model as an HDF5 file via `model.save()`. This file format is considered legacy. We recommend using instead the native Keras format, e.g. `model.save('my_model.keras')`.\n",
            "  saving_api.save_model(\n"
          ]
        }
      ]
    },
    {
      "cell_type": "code",
      "source": [
        "# run tracking UI in the background\n",
        "get_ipython().system_raw(\"mlflow ui --backend-store-uri sqlite:///mlruns.db --port 5000 &\")# run tracking UI in the background"
      ],
      "metadata": {
        "id": "mG66s2R6IiNv"
      },
      "execution_count": 29,
      "outputs": []
    },
    {
      "cell_type": "code",
      "source": [
        "from pyngrok import ngrok\n",
        "from getpass import getpass\n",
        "\n",
        "# Terminate open tunnels if exist\n",
        "ngrok.kill()\n",
        "\n",
        "# Setting the authtoken (optional)\n",
        "# Get your authtoken from https://dashboard.ngrok.com/auth\n",
        "NGROK_AUTH_TOKEN = getpass('Enter the ngrok authtoken: ')\n",
        "ngrok.set_auth_token(NGROK_AUTH_TOKEN)\n",
        "\n",
        "# Open an HTTPs tunnel on port 5000 for http://localhost:5000\n",
        "ngrok_tunnel = ngrok.connect(addr=\"5000\", proto=\"http\", bind_tls=True)\n",
        "print(\"MLflow Tracking UI:\", ngrok_tunnel.public_url)"
      ],
      "metadata": {
        "colab": {
          "base_uri": "https://localhost:8080/"
        },
        "id": "H46bQGsqIsnn",
        "outputId": "f16e3008-0dc9-4c53-c3ca-0cee6199732e"
      },
      "execution_count": 39,
      "outputs": [
        {
          "output_type": "stream",
          "name": "stdout",
          "text": [
            "Enter the ngrok authtoken: ··········\n",
            "MLflow Tracking UI: https://e1d4-34-147-63-208.ngrok-free.app\n"
          ]
        }
      ]
    },
    {
      "cell_type": "markdown",
      "source": [
        "# After training is over, lt's try to visualize the translated output of the network for a random cropped cross validation T1 weighted image."
      ],
      "metadata": {
        "id": "lQIdUA2Ej5bO"
      }
    },
    {
      "cell_type": "code",
      "source": [
        "test_base_path = \"/content/drive/MyDrive/U_Net_For_MRI_IMAGES/T1_and_T2_weighted_test_images\"\n",
        "t1_test_images = os.listdir(os.path.join(test_base_path,\"t1\"))\n",
        "t2_test_images = os.listdir(os.path.join(test_base_path,\"t2\"))\n",
        "\n",
        "test_datagen = data_generator(base_path=test_base_path,t1_images=t1_test_images,t2_images=t2_test_images,\n",
        "                              crop_size=crop_size,batch_size=3)"
      ],
      "metadata": {
        "id": "VpbRUzJVRqzE"
      },
      "execution_count": null,
      "outputs": []
    },
    {
      "cell_type": "code",
      "source": [
        "t1_test_images_batch,t2_test_images_batch = next(test_datagen)"
      ],
      "metadata": {
        "id": "rSE6kLi0Dx4j"
      },
      "execution_count": null,
      "outputs": []
    },
    {
      "cell_type": "code",
      "source": [
        "from tensorflow.keras.models import load_model\n",
        "\n",
        "# Load the model\n",
        "regression_unet = load_model(\"/content/mlruns/1/53a598c8540b4e5cac565a4c9e040792/artifacts/models/regression_unet.h5\")"
      ],
      "metadata": {
        "id": "E1fuVU0FOT2W"
      },
      "execution_count": null,
      "outputs": []
    },
    {
      "cell_type": "code",
      "source": [
        "t2_test_images_batch_pred = regression_unet(t1_test_images_batch,training=False)"
      ],
      "metadata": {
        "id": "HlcFDfbYSICN"
      },
      "execution_count": null,
      "outputs": []
    },
    {
      "cell_type": "code",
      "source": [
        "t2_test_images_batch_pred = t2_test_images_batch_pred.numpy()"
      ],
      "metadata": {
        "id": "qGJqKuc8myJ_"
      },
      "execution_count": null,
      "outputs": []
    },
    {
      "cell_type": "code",
      "source": [
        "t2_test_single_image = t2_test_images_batch_pred[0].reshape(64,64,16)"
      ],
      "metadata": {
        "id": "b0896YC4m5JT"
      },
      "execution_count": null,
      "outputs": []
    },
    {
      "cell_type": "markdown",
      "source": [
        "# Below is the translated synthetic version of random cropped T1 weighted image from Cross Validation data (Synthetic T2 weighted cropped image) generated by the network.  "
      ],
      "metadata": {
        "id": "Fsa7604mkYbc"
      }
    },
    {
      "cell_type": "code",
      "source": [
        "plt.imshow(t2_test_single_image[:,:,10:13])"
      ],
      "metadata": {
        "colab": {
          "base_uri": "https://localhost:8080/",
          "height": 487
        },
        "id": "XG49I8k-nKUM",
        "outputId": "264428e6-ddc3-4d96-eecc-c6aac1038334"
      },
      "execution_count": null,
      "outputs": [
        {
          "output_type": "stream",
          "name": "stderr",
          "text": [
            "WARNING:matplotlib.image:Clipping input data to the valid range for imshow with RGB data ([0..1] for floats or [0..255] for integers).\n"
          ]
        },
        {
          "output_type": "execute_result",
          "data": {
            "text/plain": [
              "<matplotlib.image.AxesImage at 0x7ad7b03eef20>"
            ]
          },
          "metadata": {},
          "execution_count": 62
        },
        {
          "output_type": "display_data",
          "data": {
            "text/plain": [
              "<Figure size 640x480 with 1 Axes>"
            ],
            "image/png": "[encoded data removed]"
          },
          "metadata": {}
        }
      ]
    },
    {
      "cell_type": "code",
      "source": [
        "t2_test_single_image = t2_test_images_batch[0].reshape(64,64,16)"
      ],
      "metadata": {
        "id": "LyROmPS3nSKg"
      },
      "execution_count": null,
      "outputs": []
    },
    {
      "cell_type": "markdown",
      "source": [
        "# Below is the actual T2 weighted cropped image from the cross validation data. As, it can be observed that our network has become successful in generating synthetic translated images similar to actual T2 weighted cropped images."
      ],
      "metadata": {
        "id": "A8WgEW3zkxxs"
      }
    },
    {
      "cell_type": "code",
      "source": [
        "t2_test_single_image.shape"
      ],
      "metadata": {
        "colab": {
          "base_uri": "https://localhost:8080/"
        },
        "id": "sFlteHLToZvL",
        "outputId": "319d1a51-f231-48d9-8a50-6c5ac116df41"
      },
      "execution_count": null,
      "outputs": [
        {
          "output_type": "execute_result",
          "data": {
            "text/plain": [
              "(64, 64, 16)"
            ]
          },
          "metadata": {},
          "execution_count": 60
        }
      ]
    },
    {
      "cell_type": "code",
      "source": [
        "plt.imshow(t2_test_single_image[:,:,5:8])"
      ],
      "metadata": {
        "colab": {
          "base_uri": "https://localhost:8080/",
          "height": 487
        },
        "id": "JTL6ZTEqntgv",
        "outputId": "2dd68a43-f3ad-49a3-fb19-3dcd0d0a5a33"
      },
      "execution_count": null,
      "outputs": [
        {
          "output_type": "stream",
          "name": "stderr",
          "text": [
            "WARNING:matplotlib.image:Clipping input data to the valid range for imshow with RGB data ([0..1] for floats or [0..255] for integers).\n"
          ]
        },
        {
          "output_type": "execute_result",
          "data": {
            "text/plain": [
              "<matplotlib.image.AxesImage at 0x7ad7b04a13f0>"
            ]
          },
          "metadata": {},
          "execution_count": 61
        },
        {
          "output_type": "display_data",
          "data": {
            "text/plain": [
              "<Figure size 640x480 with 1 Axes>"
            ],
            "image/png": "[encoded data removed]"
          },
          "metadata": {}
        }
      ]
    },
    {
      "cell_type": "markdown",
      "source": [
        "pretty nice for a 21 image training data!"
      ],
      "metadata": {
        "id": "pEfODeFpNKuZ"
      }
    },
    {
      "cell_type": "code",
      "source": [],
      "metadata": {
        "id": "WB3vKjl77K5d"
      },
      "execution_count": null,
      "outputs": []
    }
  ]
}